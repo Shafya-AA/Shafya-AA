{
  "metadata": {
    "kernelspec": {
      "name": "python",
      "display_name": "Python (Pyodide)",
      "language": "python"
    },
    "language_info": {
      "name": ""
    },
    "colab": {
      "provenance": []
    }
  },
  "nbformat_minor": 0,
  "nbformat": 4,
  "cells": [
    {
      "cell_type": "markdown",
      "source": [
        "# Exercise 1: Create a Jupyter Notebook\n",
        "\n",
        "Create a new Jupyter notebook called DataScienceEcosystem.ipynb"
      ],
      "metadata": {
        "id": "DHOwmcIKxLFg"
      }
    },
    {
      "cell_type": "markdown",
      "source": [
        "# Name: Data Science Ecosystem"
      ],
      "metadata": {
        "id": "napWE_MzxmO9"
      }
    },
    {
      "cell_type": "markdown",
      "source": [
        "## Exercise 2: Create markdown cell with title of the notebook"
      ],
      "metadata": {
        "id": "ps9ArRyPTcGL"
      }
    },
    {
      "cell_type": "markdown",
      "source": [
        "## Data Science Tools and Ecosystem"
      ],
      "metadata": {
        "id": "26n4kgeHTcGO"
      }
    },
    {
      "cell_type": "markdown",
      "source": [
        "## Exercise 3 - Create a markdown cell for an introduction\n",
        "\n",
        "In this notebook, Data Science Tools and Ecosystem are summarized."
      ],
      "metadata": {
        "id": "BJ9X_6jETcGO"
      }
    },
    {
      "cell_type": "markdown",
      "source": [
        "## Exercise 4 - Create a markdown cell to list data science languages\n",
        "\n",
        "<b>Some of the popular languages that Data Scientists use are</b>:\n",
        "<div style=\"padding-left: 30px;\">\n",
        "\n",
        "* Python\n",
        "* SQL\n",
        "* Julia\n",
        "* Java\n",
        "* Scala\n",
        "* JavaSc\n",
        "* R\n",
        "\n",
        "</div>"
      ],
      "metadata": {
        "id": "_X_tLPvMTcGP"
      }
    },
    {
      "cell_type": "markdown",
      "source": [
        "## Exercise 5 - Create a markdown cell to list data science libraries\n",
        "\n",
        "<b>Some of the commonly used libraries used by Data Scientists include</b>:\n",
        "<div style=\"padding-left: 30px;\">\n",
        "\n",
        "* Pandas\n",
        "* Keras\n",
        "* Numpy\n",
        "* Plotly\n",
        "* TensorFlow\n",
        "* Scikit Learn\n",
        "* SciPy\n",
        "* Matplotlib\n",
        "* Bob\n",
        "* Caffe2\n",
        "\n",
        "</div>"
      ],
      "metadata": {
        "id": "mF082uRqTcGQ"
      }
    },
    {
      "cell_type": "markdown",
      "source": [
        "## Exercise 6 - Create a markdown cell with a table of Data Science tools\n",
        "\n",
        "Data Science Tools:\n",
        "\n",
        "| Data Science Tools |\n",
        "|--------------------|\n",
        "| Jupyter Notebook   |\n",
        "| RStudio            |\n",
        "| Apache Zeppelin    |\n"
      ],
      "metadata": {
        "id": "slJjAxphTcGQ"
      }
    },
    {
      "cell_type": "markdown",
      "source": [
        "### Exercise 7 - Create a markdown cell introducing arithmetic expression examples"
      ],
      "metadata": {
        "id": "wv9tJNIRTcGR"
      }
    },
    {
      "cell_type": "markdown",
      "source": [
        "### Below are a few examples of evaluating arithmetic expressions in Python"
      ],
      "metadata": {
        "id": "0dSFwocoTcGR"
      }
    },
    {
      "cell_type": "markdown",
      "source": [
        "## 1-Addition"
      ],
      "metadata": {
        "id": "GL8pFCaXTcGR"
      }
    },
    {
      "cell_type": "code",
      "source": [
        "result = 3 + 5\n",
        "print(\"The result of 3 + 5 is:\", result)\n"
      ],
      "metadata": {
        "trusted": true,
        "colab": {
          "base_uri": "https://localhost:8080/"
        },
        "id": "oqXUnOVQTcGS",
        "outputId": "cd589e47-e6bc-4297-cbcd-fcad76fea19f"
      },
      "outputs": [
        {
          "output_type": "stream",
          "name": "stdout",
          "text": [
            "The result of 3 + 5 is: 8\n"
          ]
        }
      ],
      "execution_count": null
    },
    {
      "cell_type": "markdown",
      "source": [
        "## 2-Subtraction and Multiplication"
      ],
      "metadata": {
        "id": "VN0Edd-hUagV"
      }
    },
    {
      "cell_type": "code",
      "source": [
        "result = (10 - 4) * 2\n",
        "print(\"The result of (10 - 4) * 2 is:\", result)"
      ],
      "metadata": {
        "colab": {
          "base_uri": "https://localhost:8080/"
        },
        "id": "8GvINT4eUplQ",
        "outputId": "5d2211e6-171b-475a-8b7b-3714d3c659be"
      },
      "execution_count": null,
      "outputs": [
        {
          "output_type": "stream",
          "name": "stdout",
          "text": [
            "The result of (10 - 4) * 2 is: 12\n"
          ]
        }
      ]
    },
    {
      "cell_type": "markdown",
      "source": [
        "## 3-Division"
      ],
      "metadata": {
        "id": "-uDf8cAJUvFi"
      }
    },
    {
      "cell_type": "code",
      "source": [
        "result = 24 / 3\n",
        "print(\"The result of 24 / 3 is:\", result)"
      ],
      "metadata": {
        "colab": {
          "base_uri": "https://localhost:8080/"
        },
        "id": "OA1h-1VtU07K",
        "outputId": "5cc06a87-3dba-4a2f-c19c-b3c823b2a7bd"
      },
      "execution_count": null,
      "outputs": [
        {
          "output_type": "stream",
          "name": "stdout",
          "text": [
            "The result of 24 / 3 is: 8.0\n"
          ]
        }
      ]
    },
    {
      "cell_type": "markdown",
      "source": [
        "## Exercise 8 - Create a code cell to multiply and add numbers"
      ],
      "metadata": {
        "id": "d_rfP5nfuxI8"
      }
    },
    {
      "cell_type": "code",
      "source": [
        "# This a simple arithmetic expression to mutiply then add integers\n",
        "result = (3*4)+5\n",
        "print(\"The result of (3*4)+5 is:\", result)"
      ],
      "metadata": {
        "colab": {
          "base_uri": "https://localhost:8080/"
        },
        "id": "CyRtBp8qu0ZW",
        "outputId": "489a8fc4-17b9-4f93-9e69-bf2889c3d3cf"
      },
      "execution_count": null,
      "outputs": [
        {
          "output_type": "stream",
          "name": "stdout",
          "text": [
            "The result of (3*4)+5 is: 17\n"
          ]
        }
      ]
    },
    {
      "cell_type": "markdown",
      "source": [
        "## Exercise 9 - Create a code cell to convert minutes to hours"
      ],
      "metadata": {
        "id": "dHNJ6zRYvSIX"
      }
    },
    {
      "cell_type": "code",
      "source": [
        "# This will convert 200 minutes to hours by diving by 60\n",
        "minutes = 200\n",
        "hours = minutes / 60\n",
        "print(\"200 minutes is equal to\", hours, \"hours\")\n"
      ],
      "metadata": {
        "colab": {
          "base_uri": "https://localhost:8080/"
        },
        "id": "4wNVVyCbvT36",
        "outputId": "e9f7ebc6-e6e0-4baa-8996-a6df5cf17dd0"
      },
      "execution_count": null,
      "outputs": [
        {
          "output_type": "stream",
          "name": "stdout",
          "text": [
            "200 minutes is equal to 3.3333333333333335 hours\n"
          ]
        }
      ]
    },
    {
      "cell_type": "markdown",
      "source": [
        "## Exercise 10 - Insert a markdown cell to list Objectives\n",
        "\n",
        "Below the introduction cell created in Exercise 3, insert a new markdown cell to list the objectives that this notebook covered (i.e. some of the key takeaways from the course). In this new cell start with an introductory line titled: Objectives: in bold font. Then using an unordered list (bullets) indicate 3 to 5 items covered in this notebook, such as List popular languages for Data Science."
      ],
      "metadata": {
        "id": "TeifLM-3wJPl"
      }
    },
    {
      "cell_type": "markdown",
      "source": [
        "## Exercise 11 - Create a markdown cell to indicate the Author's name\n",
        "\n",
        "## Author\n",
        "\n",
        "Shafya Alhidairah"
      ],
      "metadata": {
        "id": "GKxnaef2wiUA"
      }
    },
    {
      "cell_type": "code",
      "source": [],
      "metadata": {
        "id": "_17qHYLLwze9"
      },
      "execution_count": null,
      "outputs": []
    }
  ]
}